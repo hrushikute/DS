{
  "nbformat": 4,
  "nbformat_minor": 0,
  "metadata": {
    "colab": {
      "name": "bbcnews.ipynb",
      "provenance": [],
      "collapsed_sections": [],
      "authorship_tag": "ABX9TyMG0C8verELsPoOSvR//BuI",
      "include_colab_link": true
    },
    "kernelspec": {
      "name": "python3",
      "display_name": "Python 3"
    },
    "language_info": {
      "name": "python"
    }
  },
  "cells": [
    {
      "cell_type": "markdown",
      "metadata": {
        "id": "view-in-github",
        "colab_type": "text"
      },
      "source": [
        "<a href=\"https://colab.research.google.com/github/hrushikute/DS/blob/master/bbcnews.ipynb\" target=\"_parent\"><img src=\"https://colab.research.google.com/assets/colab-badge.svg\" alt=\"Open In Colab\"/></a>"
      ]
    },
    {
      "cell_type": "code",
      "execution_count": 3,
      "metadata": {
        "id": "yiVaALwW9Ndv"
      },
      "outputs": [],
      "source": [
        "from tensorflow.keras.preprocessing.text import Tokenizer\n",
        "\n",
        "sentences = [\n",
        "             'I love my dog',\n",
        "             'I love horse',\n",
        "             'You love my dog',\n",
        "             'Do you think dogs are amazing'\n",
        "\n",
        "]\n",
        "tokenizer = Tokenizer(num_words=100, oov_token=\"<OOV>\")"
      ]
    },
    {
      "cell_type": "code",
      "source": [
        "tokenizer.fit_on_texts(sentences)\n",
        "word_index =tokenizer.word_index\n",
        "sequences = tokenizer.texts_to_sequences(sentences)\n",
        "print(word_index)\n",
        "print(sequences)"
      ],
      "metadata": {
        "colab": {
          "base_uri": "https://localhost:8080/"
        },
        "id": "dbZ4TCl6EFeq",
        "outputId": "67c8bf99-20b0-4760-bdfb-109126eed489"
      },
      "execution_count": 4,
      "outputs": [
        {
          "output_type": "stream",
          "name": "stdout",
          "text": [
            "{'<OOV>': 1, 'love': 2, 'i': 3, 'my': 4, 'dog': 5, 'you': 6, 'horse': 7, 'do': 8, 'think': 9, 'dogs': 10, 'are': 11, 'amazing': 12}\n",
            "[[3, 2, 4, 5], [3, 2, 7], [6, 2, 4, 5], [8, 6, 9, 10, 11, 12]]\n"
          ]
        }
      ]
    },
    {
      "cell_type": "code",
      "source": [
        "from tensorflow.keras.preprocessing.sequence import pad_sequences\n",
        "padded = pad_sequences(sequences,maxlen=10, truncating='pre', padding='post')\n",
        "print(word_index)\n",
        "print(sequences)\n",
        "print(padded)\n"
      ],
      "metadata": {
        "colab": {
          "base_uri": "https://localhost:8080/"
        },
        "id": "myCmjPFLEsMK",
        "outputId": "d774c42c-c1d8-40d5-e474-1acda42a2993"
      },
      "execution_count": 7,
      "outputs": [
        {
          "output_type": "stream",
          "name": "stdout",
          "text": [
            "{'<OOV>': 1, 'love': 2, 'i': 3, 'my': 4, 'dog': 5, 'you': 6, 'horse': 7, 'do': 8, 'think': 9, 'dogs': 10, 'are': 11, 'amazing': 12}\n",
            "[[3, 2, 4, 5], [3, 2, 7], [6, 2, 4, 5], [8, 6, 9, 10, 11, 12]]\n",
            "[[ 3  2  4  5  0  0  0  0  0  0]\n",
            " [ 3  2  7  0  0  0  0  0  0  0]\n",
            " [ 6  2  4  5  0  0  0  0  0  0]\n",
            " [ 8  6  9 10 11 12  0  0  0  0]]\n"
          ]
        }
      ]
    },
    {
      "cell_type": "code",
      "source": [
        "test_data =[\n",
        "            'I really love my dog',\n",
        "            'How you love I dog'\n",
        "]\n",
        "\n",
        "test_sequence = tokenizer.texts_to_sequences(test_data)\n",
        "\n",
        "print(word_index)\n",
        "print(test_sequence)\n",
        "\n",
        "pad_test_sequence = pad_sequences(test_sequence, padding='post')\n",
        "print(pad_test_sequence)"
      ],
      "metadata": {
        "colab": {
          "base_uri": "https://localhost:8080/"
        },
        "id": "2D8z8Zdg_q13",
        "outputId": "ea21d280-a0fc-4e07-f792-52337f0ba023"
      },
      "execution_count": 8,
      "outputs": [
        {
          "output_type": "stream",
          "name": "stdout",
          "text": [
            "{'<OOV>': 1, 'love': 2, 'i': 3, 'my': 4, 'dog': 5, 'you': 6, 'horse': 7, 'do': 8, 'think': 9, 'dogs': 10, 'are': 11, 'amazing': 12}\n",
            "[[3, 1, 2, 4, 5], [1, 6, 2, 3, 5]]\n",
            "[[3 1 2 4 5]\n",
            " [1 6 2 3 5]]\n"
          ]
        }
      ]
    },
    {
      "cell_type": "code",
      "source": [
        ""
      ],
      "metadata": {
        "id": "YTq6dup6Cakm"
      },
      "execution_count": null,
      "outputs": []
    }
  ]
}