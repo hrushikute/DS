{
  "nbformat": 4,
  "nbformat_minor": 0,
  "metadata": {
    "colab": {
      "provenance": [],
      "authorship_tag": "ABX9TyNcYy23b/Oagnv9Nr//CcV5",
      "include_colab_link": true
    },
    "kernelspec": {
      "name": "python3",
      "display_name": "Python 3"
    },
    "language_info": {
      "name": "python"
    }
  },
  "cells": [
    {
      "cell_type": "markdown",
      "metadata": {
        "id": "view-in-github",
        "colab_type": "text"
      },
      "source": [
        "<a href=\"https://colab.research.google.com/github/hrushikute/DS/blob/master/gemini_notebook.ipynb\" target=\"_parent\"><img src=\"https://colab.research.google.com/assets/colab-badge.svg\" alt=\"Open In Colab\"/></a>"
      ]
    },
    {
      "cell_type": "code",
      "execution_count": 33,
      "metadata": {
        "id": "c2CxX7ECdD1c"
      },
      "outputs": [],
      "source": []
    },
    {
      "cell_type": "code",
      "source": [
        "!pip install -q -U google-generativeai"
      ],
      "metadata": {
        "id": "x6hxD5m2d7N5"
      },
      "execution_count": 34,
      "outputs": []
    },
    {
      "cell_type": "code",
      "source": [
        "import pathlib\n",
        "import textwrap\n",
        "\n",
        "import google.generativeai as genai\n",
        "\n",
        "from IPython.display import display\n",
        "from IPython.display import Markdown\n",
        "\n",
        "def to_markdown(text):\n",
        "  text=text.replace('.', ' *')\n",
        "  return Markdown(textwrap.indent(text,'>', predicate=lambda _: True))\n",
        ""
      ],
      "metadata": {
        "id": "KfhCd5QSd_Xm"
      },
      "execution_count": 35,
      "outputs": []
    },
    {
      "cell_type": "code",
      "source": [
        "from google.colab import userdata"
      ],
      "metadata": {
        "id": "YBQzJD5geEhn"
      },
      "execution_count": 36,
      "outputs": []
    },
    {
      "cell_type": "code",
      "source": [
        "GOOGLE_API_KEY=userdata.get('GOOGLE_API_KEY')\n",
        "genai.configure(api_key=GOOGLE_API_KEY)"
      ],
      "metadata": {
        "id": "pNW-uNZL-eez"
      },
      "execution_count": 37,
      "outputs": []
    },
    {
      "cell_type": "code",
      "source": [
        "for i in genai.list_models():\n",
        "  print(i.name,i.supported_generation_methods)"
      ],
      "metadata": {
        "colab": {
          "base_uri": "https://localhost:8080/",
          "height": 329
        },
        "id": "jEEYeP1E_nqy",
        "outputId": "d6921e6f-57fe-4f70-cf1c-6a56271e327b"
      },
      "execution_count": 38,
      "outputs": [
        {
          "output_type": "stream",
          "name": "stdout",
          "text": [
            "models/chat-bison-001 ['generateMessage', 'countMessageTokens']\n",
            "models/text-bison-001 ['generateText', 'countTextTokens', 'createTunedTextModel']\n",
            "models/embedding-gecko-001 ['embedText', 'countTextTokens']\n",
            "models/gemini-1.0-pro ['generateContent', 'countTokens']\n",
            "models/gemini-1.0-pro-001 ['generateContent', 'countTokens', 'createTunedModel']\n",
            "models/gemini-1.0-pro-latest ['generateContent', 'countTokens']\n",
            "models/gemini-1.0-pro-vision-latest ['generateContent', 'countTokens']\n",
            "models/gemini-1.5-flash ['generateContent', 'countTokens']\n",
            "models/gemini-1.5-flash-001 ['generateContent', 'countTokens']\n",
            "models/gemini-1.5-flash-latest ['generateContent', 'countTokens']\n",
            "models/gemini-1.5-pro ['generateContent', 'countTokens']\n",
            "models/gemini-1.5-pro-001 ['generateContent', 'countTokens']\n",
            "models/gemini-1.5-pro-latest ['generateContent', 'countTokens']\n",
            "models/gemini-pro ['generateContent', 'countTokens']\n",
            "models/gemini-pro-vision ['generateContent', 'countTokens']\n",
            "models/embedding-001 ['embedContent']\n",
            "models/text-embedding-004 ['embedContent']\n",
            "models/aqa ['generateAnswer']\n"
          ]
        }
      ]
    },
    {
      "cell_type": "code",
      "source": [
        "for m in genai.list_models():\n",
        "  if 'generateContent' in m.supported_generation_methods:\n",
        "    print(m.name)"
      ],
      "metadata": {
        "colab": {
          "base_uri": "https://localhost:8080/",
          "height": 225
        },
        "id": "KKUxtxh1-584",
        "outputId": "b6e9e732-ad9f-4918-ba88-d37958ad7f71"
      },
      "execution_count": 39,
      "outputs": [
        {
          "output_type": "stream",
          "name": "stdout",
          "text": [
            "models/gemini-1.0-pro\n",
            "models/gemini-1.0-pro-001\n",
            "models/gemini-1.0-pro-latest\n",
            "models/gemini-1.0-pro-vision-latest\n",
            "models/gemini-1.5-flash\n",
            "models/gemini-1.5-flash-001\n",
            "models/gemini-1.5-flash-latest\n",
            "models/gemini-1.5-pro\n",
            "models/gemini-1.5-pro-001\n",
            "models/gemini-1.5-pro-latest\n",
            "models/gemini-pro\n",
            "models/gemini-pro-vision\n"
          ]
        }
      ]
    },
    {
      "cell_type": "code",
      "source": [
        "model=genai.GenerativeModel('gemini-1.0-pro')"
      ],
      "metadata": {
        "id": "6-DCJBLO_Kx7"
      },
      "execution_count": 40,
      "outputs": []
    },
    {
      "cell_type": "code",
      "source": [
        "model"
      ],
      "metadata": {
        "colab": {
          "base_uri": "https://localhost:8080/"
        },
        "id": "Pn1sFbIkAhXn",
        "outputId": "273996c5-ef22-44f9-d8a7-eb6ac202197c"
      },
      "execution_count": 41,
      "outputs": [
        {
          "output_type": "execute_result",
          "data": {
            "text/plain": [
              "genai.GenerativeModel(\n",
              "    model_name='models/gemini-1.0-pro',\n",
              "    generation_config={},\n",
              "    safety_settings={},\n",
              "    tools=None,\n",
              "    system_instruction=None,\n",
              ")"
            ]
          },
          "metadata": {},
          "execution_count": 41
        }
      ]
    },
    {
      "cell_type": "code",
      "source": [
        "%%time\n",
        "repsonse=model.generate_content(\"Why to live a life?\")"
      ],
      "metadata": {
        "colab": {
          "base_uri": "https://localhost:8080/",
          "height": 52
        },
        "id": "RDhEokcLAigP",
        "outputId": "8294f1ce-47b3-45b1-89fa-c4866b0af0fd"
      },
      "execution_count": 42,
      "outputs": [
        {
          "output_type": "stream",
          "name": "stdout",
          "text": [
            "CPU times: user 110 ms, sys: 14.7 ms, total: 125 ms\n",
            "Wall time: 8.09 s\n"
          ]
        }
      ]
    },
    {
      "cell_type": "code",
      "source": [
        "repsonse"
      ],
      "metadata": {
        "colab": {
          "base_uri": "https://localhost:8080/"
        },
        "id": "sV6BfeX1AxnS",
        "outputId": "edc81e83-bca6-489e-c8b1-26c6ee321a61"
      },
      "execution_count": 44,
      "outputs": [
        {
          "output_type": "execute_result",
          "data": {
            "text/plain": [
              "response:\n",
              "GenerateContentResponse(\n",
              "    done=True,\n",
              "    iterator=None,\n",
              "    result=glm.GenerateContentResponse({\n",
              "      \"candidates\": [\n",
              "        {\n",
              "          \"content\": {\n",
              "            \"parts\": [\n",
              "              {\n",
              "                \"text\": \"**Purpose and Fulfillment:**\\n\\n* To experience the joys and challenges of human existence and make meaningful contributions.\\n* To discover and develop one's talents, passions, and potential.\\n* To connect with others, build relationships, and feel a sense of belonging.\\n\\n**Meaningful Experiences:**\\n\\n* To experience beauty, art, music, nature, and the wonders of the world.\\n* To engage in activities that bring joy, purpose, and a sense of accomplishment.\\n* To make a difference in the world, however small or large.\\n\\n**Personal Growth:**\\n\\n* To learn from mistakes, overcome challenges, and grow both intellectually and emotionally.\\n* To develop resilience, self-discipline, and empathy.\\n* To strive for self-improvement and become a better person.\\n\\n**Contribution to Society:**\\n\\n* To use one's skills, talents, and knowledge to benefit others.\\n* To volunteer, help those in need, and contribute to the common good.\\n* To make a positive impact on the world through work, art, or activism.\\n\\n**Legacy:**\\n\\n* To leave behind a positive mark on the world, whether through family, friends, work, or contributions to society.\\n* To be remembered for one's kindness, compassion, and impact on others.\\n\\n**Hope and Optimism:**\\n\\n* To find hope and meaning even in the face of adversity.\\n* To believe in the possibility of a better future and work towards it.\\n* To inspire others to live meaningful and fulfilling lives.\\n\\n**Other Reasons:**\\n\\n* To witness the beauty and wonder of the natural world.\\n* To experience the joy of love, friendship, and family.\\n* To enjoy the simple pleasures of life, such as good food, music, and companionship.\\n* To learn from history and avoid past mistakes.\\n* To make the most of the time we have on Earth.\"\n",
              "              }\n",
              "            ],\n",
              "            \"role\": \"model\"\n",
              "          },\n",
              "          \"finish_reason\": 1,\n",
              "          \"index\": 0,\n",
              "          \"safety_ratings\": [\n",
              "            {\n",
              "              \"category\": 9,\n",
              "              \"probability\": 1,\n",
              "              \"blocked\": false\n",
              "            },\n",
              "            {\n",
              "              \"category\": 8,\n",
              "              \"probability\": 1,\n",
              "              \"blocked\": false\n",
              "            },\n",
              "            {\n",
              "              \"category\": 7,\n",
              "              \"probability\": 1,\n",
              "              \"blocked\": false\n",
              "            },\n",
              "            {\n",
              "              \"category\": 10,\n",
              "              \"probability\": 1,\n",
              "              \"blocked\": false\n",
              "            }\n",
              "          ],\n",
              "          \"token_count\": 0,\n",
              "          \"grounding_attributions\": []\n",
              "        }\n",
              "      ]\n",
              "    }),\n",
              ")"
            ]
          },
          "metadata": {},
          "execution_count": 44
        }
      ]
    },
    {
      "cell_type": "code",
      "source": [],
      "metadata": {
        "id": "hsUZbAKcJjc9"
      },
      "execution_count": null,
      "outputs": []
    }
  ]
}